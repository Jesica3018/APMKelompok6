{
  "cells": [
    {
      "cell_type": "markdown",
      "metadata": {
        "id": "view-in-github",
        "colab_type": "text"
      },
      "source": [
        "<a href=\"https://colab.research.google.com/github/Jesica3018/APMKelompok6/blob/main/Gaussian_Naive_Bayes.ipynb\" target=\"_parent\"><img src=\"https://colab.research.google.com/assets/colab-badge.svg\" alt=\"Open In Colab\"/></a>"
      ]
    },
    {
      "cell_type": "code",
      "execution_count": null,
      "id": "d703955c",
      "metadata": {
        "id": "d703955c"
      },
      "outputs": [],
      "source": [
        "#Importing the libraries  \n",
        "\n",
        "import numpy as np \n",
        "import matplotlib.pyplot as plt  \n",
        "import pandas as pd\n",
        "\n",
        "from sklearn.model_selection import train_test_split  \n",
        "from sklearn.preprocessing import StandardScaler\n",
        "from sklearn.naive_bayes import GaussianNB \n",
        "from sklearn.metrics import accuracy_score\n",
        "from sklearn.metrics import confusion_matrix\n",
        "from matplotlib.colors import ListedColormap"
      ]
    },
    {
      "cell_type": "code",
      "execution_count": null,
      "id": "02accad3",
      "metadata": {
        "scrolled": true,
        "id": "02accad3",
        "outputId": "78b64acb-25f0-4f45-bfe5-04addd6073e9"
      },
      "outputs": [
        {
          "data": {
            "text/html": [
              "<div>\n",
              "<style scoped>\n",
              "    .dataframe tbody tr th:only-of-type {\n",
              "        vertical-align: middle;\n",
              "    }\n",
              "\n",
              "    .dataframe tbody tr th {\n",
              "        vertical-align: top;\n",
              "    }\n",
              "\n",
              "    .dataframe thead th {\n",
              "        text-align: right;\n",
              "    }\n",
              "</style>\n",
              "<table border=\"1\" class=\"dataframe\">\n",
              "  <thead>\n",
              "    <tr style=\"text-align: right;\">\n",
              "      <th></th>\n",
              "      <th>squareMeters</th>\n",
              "      <th>numberOfRooms</th>\n",
              "      <th>hasYard</th>\n",
              "      <th>hasPool</th>\n",
              "      <th>floors</th>\n",
              "      <th>cityCode</th>\n",
              "      <th>cityPartRange</th>\n",
              "      <th>numPrevOwners</th>\n",
              "      <th>made</th>\n",
              "      <th>isNewBuilt</th>\n",
              "      <th>hasStormProtector</th>\n",
              "      <th>basement</th>\n",
              "      <th>attic</th>\n",
              "      <th>garage</th>\n",
              "      <th>hasStorageRoom</th>\n",
              "      <th>hasGuestRoom</th>\n",
              "      <th>price</th>\n",
              "      <th>category</th>\n",
              "    </tr>\n",
              "  </thead>\n",
              "  <tbody>\n",
              "    <tr>\n",
              "      <th>0</th>\n",
              "      <td>75523</td>\n",
              "      <td>3</td>\n",
              "      <td>0</td>\n",
              "      <td>1</td>\n",
              "      <td>63</td>\n",
              "      <td>9373</td>\n",
              "      <td>3</td>\n",
              "      <td>8</td>\n",
              "      <td>2005</td>\n",
              "      <td>0</td>\n",
              "      <td>1</td>\n",
              "      <td>4313</td>\n",
              "      <td>9005</td>\n",
              "      <td>956</td>\n",
              "      <td>0</td>\n",
              "      <td>7</td>\n",
              "      <td>7559081.5</td>\n",
              "      <td>Basic</td>\n",
              "    </tr>\n",
              "    <tr>\n",
              "      <th>1</th>\n",
              "      <td>80771</td>\n",
              "      <td>39</td>\n",
              "      <td>1</td>\n",
              "      <td>1</td>\n",
              "      <td>98</td>\n",
              "      <td>39381</td>\n",
              "      <td>8</td>\n",
              "      <td>6</td>\n",
              "      <td>2015</td>\n",
              "      <td>1</td>\n",
              "      <td>0</td>\n",
              "      <td>3653</td>\n",
              "      <td>2436</td>\n",
              "      <td>128</td>\n",
              "      <td>1</td>\n",
              "      <td>2</td>\n",
              "      <td>8085989.5</td>\n",
              "      <td>Luxury</td>\n",
              "    </tr>\n",
              "    <tr>\n",
              "      <th>2</th>\n",
              "      <td>55712</td>\n",
              "      <td>58</td>\n",
              "      <td>0</td>\n",
              "      <td>1</td>\n",
              "      <td>19</td>\n",
              "      <td>34457</td>\n",
              "      <td>6</td>\n",
              "      <td>8</td>\n",
              "      <td>2021</td>\n",
              "      <td>0</td>\n",
              "      <td>0</td>\n",
              "      <td>2937</td>\n",
              "      <td>8852</td>\n",
              "      <td>135</td>\n",
              "      <td>1</td>\n",
              "      <td>9</td>\n",
              "      <td>5574642.1</td>\n",
              "      <td>Basic</td>\n",
              "    </tr>\n",
              "    <tr>\n",
              "      <th>3</th>\n",
              "      <td>32316</td>\n",
              "      <td>47</td>\n",
              "      <td>0</td>\n",
              "      <td>0</td>\n",
              "      <td>6</td>\n",
              "      <td>27939</td>\n",
              "      <td>10</td>\n",
              "      <td>4</td>\n",
              "      <td>2012</td>\n",
              "      <td>0</td>\n",
              "      <td>1</td>\n",
              "      <td>659</td>\n",
              "      <td>7141</td>\n",
              "      <td>359</td>\n",
              "      <td>0</td>\n",
              "      <td>3</td>\n",
              "      <td>3232561.2</td>\n",
              "      <td>Basic</td>\n",
              "    </tr>\n",
              "    <tr>\n",
              "      <th>4</th>\n",
              "      <td>70429</td>\n",
              "      <td>19</td>\n",
              "      <td>1</td>\n",
              "      <td>1</td>\n",
              "      <td>90</td>\n",
              "      <td>38045</td>\n",
              "      <td>3</td>\n",
              "      <td>7</td>\n",
              "      <td>1990</td>\n",
              "      <td>1</td>\n",
              "      <td>0</td>\n",
              "      <td>8435</td>\n",
              "      <td>2429</td>\n",
              "      <td>292</td>\n",
              "      <td>1</td>\n",
              "      <td>4</td>\n",
              "      <td>7055052.0</td>\n",
              "      <td>Luxury</td>\n",
              "    </tr>\n",
              "  </tbody>\n",
              "</table>\n",
              "</div>"
            ],
            "text/plain": [
              "   squareMeters  numberOfRooms  hasYard  hasPool  floors  cityCode  \\\n",
              "0         75523              3        0        1      63      9373   \n",
              "1         80771             39        1        1      98     39381   \n",
              "2         55712             58        0        1      19     34457   \n",
              "3         32316             47        0        0       6     27939   \n",
              "4         70429             19        1        1      90     38045   \n",
              "\n",
              "   cityPartRange  numPrevOwners  made  isNewBuilt  hasStormProtector  \\\n",
              "0              3              8  2005           0                  1   \n",
              "1              8              6  2015           1                  0   \n",
              "2              6              8  2021           0                  0   \n",
              "3             10              4  2012           0                  1   \n",
              "4              3              7  1990           1                  0   \n",
              "\n",
              "   basement  attic  garage  hasStorageRoom  hasGuestRoom      price category  \n",
              "0      4313   9005     956               0             7  7559081.5    Basic  \n",
              "1      3653   2436     128               1             2  8085989.5   Luxury  \n",
              "2      2937   8852     135               1             9  5574642.1    Basic  \n",
              "3       659   7141     359               0             3  3232561.2    Basic  \n",
              "4      8435   2429     292               1             4  7055052.0   Luxury  "
            ]
          },
          "execution_count": 52,
          "metadata": {},
          "output_type": "execute_result"
        }
      ],
      "source": [
        "# Importing the data\n",
        "dataset= pd.read_csv('ParisHousingClass.csv')   \n",
        "\n",
        "#taking a look at the data\n",
        "dataset.head()"
      ]
    },
    {
      "cell_type": "code",
      "execution_count": null,
      "id": "a99e55e2",
      "metadata": {
        "id": "a99e55e2",
        "outputId": "d0089d61-ea2a-428a-db9c-ff2fcd2ad046"
      },
      "outputs": [
        {
          "data": {
            "text/html": [
              "<div>\n",
              "<style scoped>\n",
              "    .dataframe tbody tr th:only-of-type {\n",
              "        vertical-align: middle;\n",
              "    }\n",
              "\n",
              "    .dataframe tbody tr th {\n",
              "        vertical-align: top;\n",
              "    }\n",
              "\n",
              "    .dataframe thead th {\n",
              "        text-align: right;\n",
              "    }\n",
              "</style>\n",
              "<table border=\"1\" class=\"dataframe\">\n",
              "  <thead>\n",
              "    <tr style=\"text-align: right;\">\n",
              "      <th></th>\n",
              "      <th>squareMeters</th>\n",
              "      <th>numberOfRooms</th>\n",
              "      <th>hasYard</th>\n",
              "      <th>hasPool</th>\n",
              "      <th>floors</th>\n",
              "      <th>cityCode</th>\n",
              "      <th>cityPartRange</th>\n",
              "      <th>numPrevOwners</th>\n",
              "      <th>made</th>\n",
              "      <th>isNewBuilt</th>\n",
              "      <th>hasStormProtector</th>\n",
              "      <th>basement</th>\n",
              "      <th>attic</th>\n",
              "      <th>garage</th>\n",
              "      <th>hasStorageRoom</th>\n",
              "      <th>hasGuestRoom</th>\n",
              "      <th>price</th>\n",
              "      <th>category</th>\n",
              "    </tr>\n",
              "  </thead>\n",
              "  <tbody>\n",
              "    <tr>\n",
              "      <th>0</th>\n",
              "      <td>7178</td>\n",
              "      <td>2</td>\n",
              "      <td>0</td>\n",
              "      <td>1</td>\n",
              "      <td>62</td>\n",
              "      <td>917</td>\n",
              "      <td>2</td>\n",
              "      <td>7</td>\n",
              "      <td>15</td>\n",
              "      <td>0</td>\n",
              "      <td>1</td>\n",
              "      <td>2731</td>\n",
              "      <td>5638</td>\n",
              "      <td>856</td>\n",
              "      <td>0</td>\n",
              "      <td>7</td>\n",
              "      <td>7580</td>\n",
              "      <td>0</td>\n",
              "    </tr>\n",
              "    <tr>\n",
              "      <th>1</th>\n",
              "      <td>7680</td>\n",
              "      <td>38</td>\n",
              "      <td>1</td>\n",
              "      <td>1</td>\n",
              "      <td>97</td>\n",
              "      <td>3699</td>\n",
              "      <td>7</td>\n",
              "      <td>5</td>\n",
              "      <td>25</td>\n",
              "      <td>1</td>\n",
              "      <td>0</td>\n",
              "      <td>2314</td>\n",
              "      <td>1509</td>\n",
              "      <td>28</td>\n",
              "      <td>1</td>\n",
              "      <td>2</td>\n",
              "      <td>8106</td>\n",
              "      <td>1</td>\n",
              "    </tr>\n",
              "    <tr>\n",
              "      <th>2</th>\n",
              "      <td>5287</td>\n",
              "      <td>57</td>\n",
              "      <td>0</td>\n",
              "      <td>1</td>\n",
              "      <td>18</td>\n",
              "      <td>3284</td>\n",
              "      <td>5</td>\n",
              "      <td>7</td>\n",
              "      <td>31</td>\n",
              "      <td>0</td>\n",
              "      <td>0</td>\n",
              "      <td>1860</td>\n",
              "      <td>5536</td>\n",
              "      <td>35</td>\n",
              "      <td>1</td>\n",
              "      <td>9</td>\n",
              "      <td>5584</td>\n",
              "      <td>0</td>\n",
              "    </tr>\n",
              "    <tr>\n",
              "      <th>3</th>\n",
              "      <td>3038</td>\n",
              "      <td>46</td>\n",
              "      <td>0</td>\n",
              "      <td>0</td>\n",
              "      <td>5</td>\n",
              "      <td>2676</td>\n",
              "      <td>9</td>\n",
              "      <td>3</td>\n",
              "      <td>22</td>\n",
              "      <td>0</td>\n",
              "      <td>1</td>\n",
              "      <td>442</td>\n",
              "      <td>4447</td>\n",
              "      <td>259</td>\n",
              "      <td>0</td>\n",
              "      <td>3</td>\n",
              "      <td>3196</td>\n",
              "      <td>0</td>\n",
              "    </tr>\n",
              "    <tr>\n",
              "      <th>4</th>\n",
              "      <td>6707</td>\n",
              "      <td>18</td>\n",
              "      <td>1</td>\n",
              "      <td>1</td>\n",
              "      <td>89</td>\n",
              "      <td>3579</td>\n",
              "      <td>2</td>\n",
              "      <td>6</td>\n",
              "      <td>0</td>\n",
              "      <td>1</td>\n",
              "      <td>0</td>\n",
              "      <td>5366</td>\n",
              "      <td>1505</td>\n",
              "      <td>192</td>\n",
              "      <td>1</td>\n",
              "      <td>4</td>\n",
              "      <td>7092</td>\n",
              "      <td>1</td>\n",
              "    </tr>\n",
              "  </tbody>\n",
              "</table>\n",
              "</div>"
            ],
            "text/plain": [
              "   squareMeters  numberOfRooms  hasYard  hasPool  floors  cityCode  \\\n",
              "0          7178              2        0        1      62       917   \n",
              "1          7680             38        1        1      97      3699   \n",
              "2          5287             57        0        1      18      3284   \n",
              "3          3038             46        0        0       5      2676   \n",
              "4          6707             18        1        1      89      3579   \n",
              "\n",
              "   cityPartRange  numPrevOwners  made  isNewBuilt  hasStormProtector  \\\n",
              "0              2              7    15           0                  1   \n",
              "1              7              5    25           1                  0   \n",
              "2              5              7    31           0                  0   \n",
              "3              9              3    22           0                  1   \n",
              "4              2              6     0           1                  0   \n",
              "\n",
              "   basement  attic  garage  hasStorageRoom  hasGuestRoom  price  category  \n",
              "0      2731   5638     856               0             7   7580         0  \n",
              "1      2314   1509      28               1             2   8106         1  \n",
              "2      1860   5536      35               1             9   5584         0  \n",
              "3       442   4447     259               0             3   3196         0  \n",
              "4      5366   1505     192               1             4   7092         1  "
            ]
          },
          "execution_count": 60,
          "metadata": {},
          "output_type": "execute_result"
        }
      ],
      "source": [
        "dataset_encoded=dataset.iloc[:,0:18] \n",
        "le=LabelEncoder() \n",
        "for i in dataset_encoded: dataset_encoded[i]=le.fit_transform(dataset_encoded[i]) \n",
        "dataset_encoded.head()"
      ]
    },
    {
      "cell_type": "code",
      "execution_count": null,
      "id": "9c665ca5",
      "metadata": {
        "id": "9c665ca5"
      },
      "outputs": [],
      "source": [
        "x = dataset_encoded.iloc[:, [0,16]].values  \n",
        "y = dataset_encoded.iloc[:, 17].values"
      ]
    },
    {
      "cell_type": "code",
      "execution_count": null,
      "id": "f28aa517",
      "metadata": {
        "id": "f28aa517"
      },
      "outputs": [],
      "source": [
        "#splitting the data into training and testing sets\n",
        "\n",
        "x_train, x_test, y_train, y_test = train_test_split(x, y, test_size = 0.25, random_state = 5)"
      ]
    },
    {
      "cell_type": "code",
      "execution_count": null,
      "id": "50eb40d9",
      "metadata": {
        "id": "50eb40d9"
      },
      "outputs": [],
      "source": [
        "# Feature Scaling  \n",
        "\n",
        "sc = StandardScaler()  \n",
        "x_train = sc.fit_transform(x_train)  \n",
        "x_test = sc.transform(x_test) "
      ]
    },
    {
      "cell_type": "code",
      "execution_count": null,
      "id": "fd59049d",
      "metadata": {
        "id": "fd59049d",
        "outputId": "b8a44613-8605-4af3-f809-2a39dab852cd"
      },
      "outputs": [
        {
          "data": {
            "text/plain": [
              "GaussianNB()"
            ]
          },
          "execution_count": 64,
          "metadata": {},
          "output_type": "execute_result"
        }
      ],
      "source": [
        "# Fitting Naive Bayes to the Training set  \n",
        "\n",
        "classifier = GaussianNB()  \n",
        "classifier.fit(x_train, y_train)  "
      ]
    },
    {
      "cell_type": "code",
      "execution_count": null,
      "id": "5380de17",
      "metadata": {
        "id": "5380de17"
      },
      "outputs": [],
      "source": [
        "# Predicting the Test set results  \n",
        "\n",
        "y_pred = classifier.predict(x_test)  "
      ]
    },
    {
      "cell_type": "code",
      "execution_count": null,
      "id": "f1d1a007",
      "metadata": {
        "id": "f1d1a007",
        "outputId": "17986be6-89fe-47b4-949e-bc2218b93ddd"
      },
      "outputs": [
        {
          "data": {
            "text/plain": [
              "0.876"
            ]
          },
          "execution_count": 66,
          "metadata": {},
          "output_type": "execute_result"
        }
      ],
      "source": [
        "#Accuracy score\n",
        "\n",
        "accuracy_score(y_test, y_pred) "
      ]
    },
    {
      "cell_type": "code",
      "execution_count": null,
      "id": "5be5af08",
      "metadata": {
        "id": "5be5af08",
        "outputId": "ba66d890-4678-4ded-93e7-fec93ef825d7"
      },
      "outputs": [
        {
          "name": "stdout",
          "output_type": "stream",
          "text": [
            "[[2190    0]\n",
            " [ 310    0]]\n"
          ]
        }
      ],
      "source": [
        "#Confusion Matrix  \n",
        "\n",
        "cm = confusion_matrix(y_test, y_pred)  \n",
        "\n",
        "print(cm) "
      ]
    },
    {
      "cell_type": "code",
      "execution_count": null,
      "id": "3ecfe2ca",
      "metadata": {
        "id": "3ecfe2ca",
        "outputId": "9005b96f-672d-43e2-905d-56c66452338c"
      },
      "outputs": [
        {
          "name": "stderr",
          "output_type": "stream",
          "text": [
            "*c* argument looks like a single numeric RGB or RGBA sequence, which should be avoided as value-mapping will have precedence in case its length matches with *x* & *y*.  Please use the *color* keyword-argument or provide a 2-D array with a single row if you intend to specify the same RGB or RGBA value for all points.\n",
            "*c* argument looks like a single numeric RGB or RGBA sequence, which should be avoided as value-mapping will have precedence in case its length matches with *x* & *y*.  Please use the *color* keyword-argument or provide a 2-D array with a single row if you intend to specify the same RGB or RGBA value for all points.\n"
          ]
        },
        {
          "data": {
            "image/png": "[encoded data removed]",
            "text/plain": [
              "<Figure size 432x288 with 1 Axes>"
            ]
          },
          "metadata": {
            "needs_background": "light"
          },
          "output_type": "display_data"
        }
      ],
      "source": [
        "# Visualising the Test set results\n",
        "from matplotlib.colors import ListedColormap\n",
        "X_set, y_set = x_test, y_test\n",
        "X1, X2 = np.meshgrid(np.arange(start = X_set[:, 0].min() - 1, stop = X_set[:, 0].max() + 1, step = 0.01),\n",
        "    np.arange(start = X_set[:, 1].min() - 1, stop = X_set[:, 1].max() + 1, step = 0.01))\n",
        "plt.contourf(X1, X2, classifier.predict(np.array([X1.ravel(), X2.ravel()]).T).reshape(X1.shape),\n",
        "alpha = 0.2, cmap = ListedColormap(('blue', 'red')))\n",
        "plt.xlim(X1.min(), X1.max())\n",
        "plt.ylim(X2.min(), X2.max())\n",
        "for i, j in enumerate(np.unique(y_set)):\n",
        "    plt.scatter(X_set[y_set == j, 0], X_set[y_set == j, 1],\n",
        "        c = ListedColormap(('blue', 'red'))(i), label = j)\n",
        "plt.xlabel('squareMeters')\n",
        "plt.ylabel('category')\n",
        "plt.legend()\n",
        "plt.show()"
      ]
    },
    {
      "cell_type": "code",
      "execution_count": null,
      "id": "ef827bc8",
      "metadata": {
        "id": "ef827bc8"
      },
      "outputs": [],
      "source": [
        ""
      ]
    }
  ],
  "metadata": {
    "kernelspec": {
      "display_name": "Python 3",
      "language": "python",
      "name": "python3"
    },
    "language_info": {
      "codemirror_mode": {
        "name": "ipython",
        "version": 3
      },
      "file_extension": ".py",
      "mimetype": "text/x-python",
      "name": "python",
      "nbconvert_exporter": "python",
      "pygments_lexer": "ipython3",
      "version": "3.8.8"
    },
    "colab": {
      "name": "Gaussian Naive Bayes 2.ipynb",
      "provenance": [],
      "include_colab_link": true
    }
  },
  "nbformat": 4,
  "nbformat_minor": 5
}