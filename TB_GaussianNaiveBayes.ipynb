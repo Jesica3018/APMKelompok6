{
  "cells": [
    {
      "cell_type": "markdown",
      "metadata": {
        "id": "view-in-github",
        "colab_type": "text"
      },
      "source": [
        "<a href=\"https://colab.research.google.com/github/Jesica3018/APMKelompok6/blob/main/TB_GaussianNaiveBayes.ipynb\" target=\"_parent\"><img src=\"https://colab.research.google.com/assets/colab-badge.svg\" alt=\"Open In Colab\"/></a>"
      ]
    },
    {
      "cell_type": "code",
      "execution_count": null,
      "id": "31d2b74d",
      "metadata": {
        "id": "31d2b74d"
      },
      "outputs": [],
      "source": [
        "#Importing the libraries  \n",
        "\n",
        "import numpy as np \n",
        "import pandas as pd  "
      ]
    },
    {
      "cell_type": "code",
      "execution_count": null,
      "id": "187d3172",
      "metadata": {
        "id": "187d3172"
      },
      "outputs": [],
      "source": [
        "# Importing the data\n",
        "dataset= pd.read_csv('processed-anggaran-jakarta-belanja-langsung-per-kegiatan.csv')  \n",
        "x = dataset.iloc[:, [1, 5, 7]].values  \n",
        "y = dataset.iloc[:, 0].values  "
      ]
    },
    {
      "cell_type": "code",
      "execution_count": null,
      "id": "e7ab7be5",
      "metadata": {
        "id": "e7ab7be5",
        "outputId": "4c8c4d5e-4b45-4add-943c-e34d2d895bbd"
      },
      "outputs": [
        {
          "data": {
            "text/html": [
              "<div>\n",
              "<style scoped>\n",
              "    .dataframe tbody tr th:only-of-type {\n",
              "        vertical-align: middle;\n",
              "    }\n",
              "\n",
              "    .dataframe tbody tr th {\n",
              "        vertical-align: top;\n",
              "    }\n",
              "\n",
              "    .dataframe thead th {\n",
              "        text-align: right;\n",
              "    }\n",
              "</style>\n",
              "<table border=\"1\" class=\"dataframe\">\n",
              "  <thead>\n",
              "    <tr style=\"text-align: right;\">\n",
              "      <th></th>\n",
              "      <th>komisi</th>\n",
              "      <th>skpdid</th>\n",
              "      <th>kode_skpd</th>\n",
              "      <th>belanja</th>\n",
              "      <th>nama_skpd</th>\n",
              "      <th>id_kegiatan</th>\n",
              "      <th>kegiatan</th>\n",
              "      <th>nilai_anggaran</th>\n",
              "    </tr>\n",
              "  </thead>\n",
              "  <tbody>\n",
              "    <tr>\n",
              "      <th>0</th>\n",
              "      <td>1</td>\n",
              "      <td>4</td>\n",
              "      <td>1.20.002</td>\n",
              "      <td>Belanja Barang Jasa</td>\n",
              "      <td>SEKRETARIAT DPRD</td>\n",
              "      <td>33450</td>\n",
              "      <td>Fasilitasi Laporan Pajak Monev DPRD dan Sekret...</td>\n",
              "      <td>251400000.0</td>\n",
              "    </tr>\n",
              "    <tr>\n",
              "      <th>1</th>\n",
              "      <td>1</td>\n",
              "      <td>4</td>\n",
              "      <td>1.20.002</td>\n",
              "      <td>Belanja Pegawai</td>\n",
              "      <td>SEKRETARIAT DPRD</td>\n",
              "      <td>38412</td>\n",
              "      <td>Konfirmasi Realisasi Anggaran dengan SKPD terkait</td>\n",
              "      <td>152760000.0</td>\n",
              "    </tr>\n",
              "    <tr>\n",
              "      <th>2</th>\n",
              "      <td>1</td>\n",
              "      <td>4</td>\n",
              "      <td>1.20.002</td>\n",
              "      <td>Belanja Barang Jasa</td>\n",
              "      <td>SEKRETARIAT DPRD</td>\n",
              "      <td>38412</td>\n",
              "      <td>Konfirmasi Realisasi Anggaran dengan SKPD terkait</td>\n",
              "      <td>600000.0</td>\n",
              "    </tr>\n",
              "    <tr>\n",
              "      <th>3</th>\n",
              "      <td>1</td>\n",
              "      <td>4</td>\n",
              "      <td>1.20.002</td>\n",
              "      <td>Belanja Pegawai</td>\n",
              "      <td>SEKRETARIAT DPRD</td>\n",
              "      <td>38431</td>\n",
              "      <td>Penyusunan Neraca, LRA, dan CALK, LAKIP</td>\n",
              "      <td>220000000.0</td>\n",
              "    </tr>\n",
              "    <tr>\n",
              "      <th>4</th>\n",
              "      <td>1</td>\n",
              "      <td>4</td>\n",
              "      <td>1.20.002</td>\n",
              "      <td>Belanja Barang Jasa</td>\n",
              "      <td>SEKRETARIAT DPRD</td>\n",
              "      <td>38444</td>\n",
              "      <td>Fasilitasi Kegiatan Penatausahaan dan Pengelol...</td>\n",
              "      <td>252050000.0</td>\n",
              "    </tr>\n",
              "  </tbody>\n",
              "</table>\n",
              "</div>"
            ],
            "text/plain": [
              "   komisi  skpdid kode_skpd              belanja         nama_skpd  \\\n",
              "0       1       4  1.20.002  Belanja Barang Jasa  SEKRETARIAT DPRD   \n",
              "1       1       4  1.20.002      Belanja Pegawai  SEKRETARIAT DPRD   \n",
              "2       1       4  1.20.002  Belanja Barang Jasa  SEKRETARIAT DPRD   \n",
              "3       1       4  1.20.002      Belanja Pegawai  SEKRETARIAT DPRD   \n",
              "4       1       4  1.20.002  Belanja Barang Jasa  SEKRETARIAT DPRD   \n",
              "\n",
              "   id_kegiatan                                           kegiatan  \\\n",
              "0        33450  Fasilitasi Laporan Pajak Monev DPRD dan Sekret...   \n",
              "1        38412  Konfirmasi Realisasi Anggaran dengan SKPD terkait   \n",
              "2        38412  Konfirmasi Realisasi Anggaran dengan SKPD terkait   \n",
              "3        38431            Penyusunan Neraca, LRA, dan CALK, LAKIP   \n",
              "4        38444  Fasilitasi Kegiatan Penatausahaan dan Pengelol...   \n",
              "\n",
              "   nilai_anggaran  \n",
              "0     251400000.0  \n",
              "1     152760000.0  \n",
              "2        600000.0  \n",
              "3     220000000.0  \n",
              "4     252050000.0  "
            ]
          },
          "execution_count": 70,
          "metadata": {},
          "output_type": "execute_result"
        }
      ],
      "source": [
        "#taking a look at the data\n",
        "\n",
        "dataset.head()"
      ]
    },
    {
      "cell_type": "code",
      "execution_count": null,
      "id": "9a4532b1",
      "metadata": {
        "id": "9a4532b1",
        "outputId": "4feda5c5-a74a-4e3d-9102-632ff8a632a6"
      },
      "outputs": [
        {
          "name": "stdout",
          "output_type": "stream",
          "text": [
            "<class 'pandas.core.frame.DataFrame'>\n",
            "RangeIndex: 85673 entries, 0 to 85672\n",
            "Data columns (total 8 columns):\n",
            " #   Column          Non-Null Count  Dtype  \n",
            "---  ------          --------------  -----  \n",
            " 0   komisi          85673 non-null  int64  \n",
            " 1   skpdid          85673 non-null  int64  \n",
            " 2   kode_skpd       85673 non-null  object \n",
            " 3   belanja         85673 non-null  object \n",
            " 4   nama_skpd       85673 non-null  object \n",
            " 5   id_kegiatan     85673 non-null  int64  \n",
            " 6   kegiatan        85673 non-null  object \n",
            " 7   nilai_anggaran  85673 non-null  float64\n",
            "dtypes: float64(1), int64(3), object(4)\n",
            "memory usage: 5.2+ MB\n"
          ]
        }
      ],
      "source": [
        "dataset.info()"
      ]
    },
    {
      "cell_type": "code",
      "execution_count": null,
      "id": "54af6628",
      "metadata": {
        "id": "54af6628"
      },
      "outputs": [],
      "source": [
        "#splitting the data into training and testing sets\n",
        "\n",
        "from sklearn.model_selection import train_test_split  \n",
        "x_train, x_test, y_train, y_test = train_test_split(x, y, test_size = 0.25, random_state = 5)"
      ]
    },
    {
      "cell_type": "code",
      "execution_count": null,
      "id": "8ed61ec3",
      "metadata": {
        "id": "8ed61ec3"
      },
      "outputs": [],
      "source": [
        "# Feature Scaling  \n",
        "\n",
        "from sklearn.preprocessing import StandardScaler  \n",
        "sc = StandardScaler()  \n",
        "X_train = sc.fit_transform(x_train)  \n",
        "X_test = sc.transform(x_test) "
      ]
    },
    {
      "cell_type": "code",
      "execution_count": null,
      "id": "5b331c09",
      "metadata": {
        "id": "5b331c09",
        "outputId": "a47f82b0-6666-451b-d8ae-c623d3d91213"
      },
      "outputs": [
        {
          "data": {
            "text/html": [
              "<style>#sk-container-id-7 {color: black;background-color: white;}#sk-container-id-7 pre{padding: 0;}#sk-container-id-7 div.sk-toggleable {background-color: white;}#sk-container-id-7 label.sk-toggleable__label {cursor: pointer;display: block;width: 100%;margin-bottom: 0;padding: 0.3em;box-sizing: border-box;text-align: center;}#sk-container-id-7 label.sk-toggleable__label-arrow:before {content: \"▸\";float: left;margin-right: 0.25em;color: #696969;}#sk-container-id-7 label.sk-toggleable__label-arrow:hover:before {color: black;}#sk-container-id-7 div.sk-estimator:hover label.sk-toggleable__label-arrow:before {color: black;}#sk-container-id-7 div.sk-toggleable__content {max-height: 0;max-width: 0;overflow: hidden;text-align: left;background-color: #f0f8ff;}#sk-container-id-7 div.sk-toggleable__content pre {margin: 0.2em;color: black;border-radius: 0.25em;background-color: #f0f8ff;}#sk-container-id-7 input.sk-toggleable__control:checked~div.sk-toggleable__content {max-height: 200px;max-width: 100%;overflow: auto;}#sk-container-id-7 input.sk-toggleable__control:checked~label.sk-toggleable__label-arrow:before {content: \"▾\";}#sk-container-id-7 div.sk-estimator input.sk-toggleable__control:checked~label.sk-toggleable__label {background-color: #d4ebff;}#sk-container-id-7 div.sk-label input.sk-toggleable__control:checked~label.sk-toggleable__label {background-color: #d4ebff;}#sk-container-id-7 input.sk-hidden--visually {border: 0;clip: rect(1px 1px 1px 1px);clip: rect(1px, 1px, 1px, 1px);height: 1px;margin: -1px;overflow: hidden;padding: 0;position: absolute;width: 1px;}#sk-container-id-7 div.sk-estimator {font-family: monospace;background-color: #f0f8ff;border: 1px dotted black;border-radius: 0.25em;box-sizing: border-box;margin-bottom: 0.5em;}#sk-container-id-7 div.sk-estimator:hover {background-color: #d4ebff;}#sk-container-id-7 div.sk-parallel-item::after {content: \"\";width: 100%;border-bottom: 1px solid gray;flex-grow: 1;}#sk-container-id-7 div.sk-label:hover label.sk-toggleable__label {background-color: #d4ebff;}#sk-container-id-7 div.sk-serial::before {content: \"\";position: absolute;border-left: 1px solid gray;box-sizing: border-box;top: 0;bottom: 0;left: 50%;z-index: 0;}#sk-container-id-7 div.sk-serial {display: flex;flex-direction: column;align-items: center;background-color: white;padding-right: 0.2em;padding-left: 0.2em;position: relative;}#sk-container-id-7 div.sk-item {position: relative;z-index: 1;}#sk-container-id-7 div.sk-parallel {display: flex;align-items: stretch;justify-content: center;background-color: white;position: relative;}#sk-container-id-7 div.sk-item::before, #sk-container-id-7 div.sk-parallel-item::before {content: \"\";position: absolute;border-left: 1px solid gray;box-sizing: border-box;top: 0;bottom: 0;left: 50%;z-index: -1;}#sk-container-id-7 div.sk-parallel-item {display: flex;flex-direction: column;z-index: 1;position: relative;background-color: white;}#sk-container-id-7 div.sk-parallel-item:first-child::after {align-self: flex-end;width: 50%;}#sk-container-id-7 div.sk-parallel-item:last-child::after {align-self: flex-start;width: 50%;}#sk-container-id-7 div.sk-parallel-item:only-child::after {width: 0;}#sk-container-id-7 div.sk-dashed-wrapped {border: 1px dashed gray;margin: 0 0.4em 0.5em 0.4em;box-sizing: border-box;padding-bottom: 0.4em;background-color: white;}#sk-container-id-7 div.sk-label label {font-family: monospace;font-weight: bold;display: inline-block;line-height: 1.2em;}#sk-container-id-7 div.sk-label-container {text-align: center;}#sk-container-id-7 div.sk-container {/* jupyter's `normalize.less` sets `[hidden] { display: none; }` but bootstrap.min.css set `[hidden] { display: none !important; }` so we also need the `!important` here to be able to override the default hidden behavior on the sphinx rendered scikit-learn.org. See: https://github.com/scikit-learn/scikit-learn/issues/21755 */display: inline-block !important;position: relative;}#sk-container-id-7 div.sk-text-repr-fallback {display: none;}</style><div id=\"sk-container-id-7\" class=\"sk-top-container\"><div class=\"sk-text-repr-fallback\"><pre>GaussianNB()</pre><b>In a Jupyter environment, please rerun this cell to show the HTML representation or trust the notebook. <br />On GitHub, the HTML representation is unable to render, please try loading this page with nbviewer.org.</b></div><div class=\"sk-container\" hidden><div class=\"sk-item\"><div class=\"sk-estimator sk-toggleable\"><input class=\"sk-toggleable__control sk-hidden--visually\" id=\"sk-estimator-id-7\" type=\"checkbox\" checked><label for=\"sk-estimator-id-7\" class=\"sk-toggleable__label sk-toggleable__label-arrow\">GaussianNB</label><div class=\"sk-toggleable__content\"><pre>GaussianNB()</pre></div></div></div></div></div>"
            ],
            "text/plain": [
              "GaussianNB()"
            ]
          },
          "execution_count": 85,
          "metadata": {},
          "output_type": "execute_result"
        }
      ],
      "source": [
        "# Fitting Naive Bayes to the Training set  \n",
        "\n",
        "from sklearn.naive_bayes import GaussianNB  \n",
        "classifier = GaussianNB()  \n",
        "classifier.fit(x_train, y_train)  "
      ]
    },
    {
      "cell_type": "code",
      "execution_count": null,
      "id": "db16a4ad",
      "metadata": {
        "id": "db16a4ad",
        "outputId": "04b2f0ef-6d28-4d7e-933c-2b679af68d12"
      },
      "outputs": [
        {
          "data": {
            "text/plain": [
              "array([1, 1, 1, ..., 1, 1, 1], dtype=int64)"
            ]
          },
          "execution_count": 86,
          "metadata": {},
          "output_type": "execute_result"
        }
      ],
      "source": [
        "# Predicting the Test set results  \n",
        "\n",
        "y_pred = classifier.predict(x_test)\n",
        "y_pred"
      ]
    },
    {
      "cell_type": "code",
      "execution_count": null,
      "id": "76be043a",
      "metadata": {
        "id": "76be043a",
        "outputId": "a76a418d-e515-418f-c990-c91e229e0c93"
      },
      "outputs": [
        {
          "name": "stdout",
          "output_type": "stream",
          "text": [
            "[[10636     1   105    49    27]\n",
            " [ 2270     8   224   135    13]\n",
            " [  416     2   177    16     4]\n",
            " [ 2543    11    88   110    61]\n",
            " [ 3942     6   140   383    52]]\n"
          ]
        }
      ],
      "source": [
        "#Confusion Matrix  \n",
        "\n",
        "from sklearn.metrics import confusion_matrix  \n",
        "cm = confusion_matrix(y_test, y_pred)  \n",
        "\n",
        "print(cm) "
      ]
    },
    {
      "cell_type": "code",
      "execution_count": null,
      "id": "947d15cd",
      "metadata": {
        "id": "947d15cd",
        "outputId": "3feb1485-f4f5-480b-a24b-b05e75a3dd2c"
      },
      "outputs": [
        {
          "data": {
            "text/plain": [
              "0.5127690368364536"
            ]
          },
          "execution_count": 88,
          "metadata": {},
          "output_type": "execute_result"
        }
      ],
      "source": [
        "#Accuracy score\n",
        "\n",
        "from sklearn.metrics import accuracy_score\n",
        "\n",
        "accuracy_score(y_test, y_pred) "
      ]
    },
    {
      "cell_type": "code",
      "execution_count": null,
      "id": "590be189",
      "metadata": {
        "id": "590be189",
        "outputId": "6454ce66-cbb5-45c8-c206-6cd224d25006"
      },
      "outputs": [
        {
          "name": "stdout",
          "output_type": "stream",
          "text": [
            "              precision    recall  f1-score   support\n",
            "\n",
            "           1       0.54      0.98      0.69     10818\n",
            "           2       0.29      0.00      0.01      2650\n",
            "           3       0.24      0.29      0.26       615\n",
            "           4       0.16      0.04      0.06      2813\n",
            "           5       0.33      0.01      0.02      4523\n",
            "\n",
            "    accuracy                           0.51     21419\n",
            "   macro avg       0.31      0.26      0.21     21419\n",
            "weighted avg       0.40      0.51      0.37     21419\n",
            "\n"
          ]
        }
      ],
      "source": [
        "from sklearn.metrics import classification_report\n",
        "print(classification_report(y_test,y_pred))"
      ]
    },
    {
      "cell_type": "code",
      "execution_count": null,
      "id": "d41d1464",
      "metadata": {
        "id": "d41d1464"
      },
      "outputs": [],
      "source": [
        ""
      ]
    }
  ],
  "metadata": {
    "kernelspec": {
      "display_name": "Python 3",
      "language": "python",
      "name": "python3"
    },
    "language_info": {
      "codemirror_mode": {
        "name": "ipython",
        "version": 3
      },
      "file_extension": ".py",
      "mimetype": "text/x-python",
      "name": "python",
      "nbconvert_exporter": "python",
      "pygments_lexer": "ipython3",
      "version": "3.8.8"
    },
    "colab": {
      "name": "TB_GaussianNaiveBayes.ipynb",
      "provenance": [],
      "include_colab_link": true
    }
  },
  "nbformat": 4,
  "nbformat_minor": 5
}