{
  "cells": [
    {
      "cell_type": "markdown",
      "metadata": {
        "id": "view-in-github",
        "colab_type": "text"
      },
      "source": [
        "<a href=\"https://colab.research.google.com/github/Jesica3018/APMKelompok6/blob/main/SVM_Linear.ipynb\" target=\"_parent\"><img src=\"https://colab.research.google.com/assets/colab-badge.svg\" alt=\"Open In Colab\"/></a>"
      ]
    },
    {
      "cell_type": "code",
      "execution_count": null,
      "id": "2689dd0e",
      "metadata": {
        "id": "2689dd0e"
      },
      "outputs": [],
      "source": [
        "#import library\n",
        "import numpy as np\n",
        "import pandas as pd\n",
        "import matplotlib.pyplot as plt\n",
        "from sklearn.model_selection import train_test_split\n",
        "from sklearn.svm import SVC\n",
        "clf = SVC(kernel='linear')"
      ]
    },
    {
      "cell_type": "code",
      "execution_count": null,
      "id": "c9af054b",
      "metadata": {
        "id": "c9af054b",
        "outputId": "e9513933-3cb5-4bab-fbaa-c08c1fa910cf"
      },
      "outputs": [
        {
          "data": {
            "text/html": [
              "<div>\n",
              "<style scoped>\n",
              "    .dataframe tbody tr th:only-of-type {\n",
              "        vertical-align: middle;\n",
              "    }\n",
              "\n",
              "    .dataframe tbody tr th {\n",
              "        vertical-align: top;\n",
              "    }\n",
              "\n",
              "    .dataframe thead th {\n",
              "        text-align: right;\n",
              "    }\n",
              "</style>\n",
              "<table border=\"1\" class=\"dataframe\">\n",
              "  <thead>\n",
              "    <tr style=\"text-align: right;\">\n",
              "      <th></th>\n",
              "      <th>age</th>\n",
              "      <th>sex</th>\n",
              "      <th>chest</th>\n",
              "      <th>resting_blood_pressure</th>\n",
              "      <th>serum_cholestoral</th>\n",
              "      <th>fasting_blood_sugar</th>\n",
              "      <th>resting_electrocardiographic_results</th>\n",
              "      <th>maximum_heart_rate_achieved</th>\n",
              "      <th>exercise_induced_angina</th>\n",
              "      <th>oldpeak</th>\n",
              "      <th>slope</th>\n",
              "      <th>number_of_major_vessels</th>\n",
              "      <th>thal</th>\n",
              "      <th>result</th>\n",
              "    </tr>\n",
              "  </thead>\n",
              "  <tbody>\n",
              "    <tr>\n",
              "      <th>0</th>\n",
              "      <td>70</td>\n",
              "      <td>1</td>\n",
              "      <td>4</td>\n",
              "      <td>130</td>\n",
              "      <td>322</td>\n",
              "      <td>0</td>\n",
              "      <td>2</td>\n",
              "      <td>109</td>\n",
              "      <td>0</td>\n",
              "      <td>2.4</td>\n",
              "      <td>2</td>\n",
              "      <td>3</td>\n",
              "      <td>3</td>\n",
              "      <td>1</td>\n",
              "    </tr>\n",
              "    <tr>\n",
              "      <th>1</th>\n",
              "      <td>67</td>\n",
              "      <td>0</td>\n",
              "      <td>3</td>\n",
              "      <td>115</td>\n",
              "      <td>564</td>\n",
              "      <td>0</td>\n",
              "      <td>2</td>\n",
              "      <td>160</td>\n",
              "      <td>0</td>\n",
              "      <td>1.6</td>\n",
              "      <td>2</td>\n",
              "      <td>0</td>\n",
              "      <td>7</td>\n",
              "      <td>0</td>\n",
              "    </tr>\n",
              "    <tr>\n",
              "      <th>2</th>\n",
              "      <td>57</td>\n",
              "      <td>1</td>\n",
              "      <td>2</td>\n",
              "      <td>124</td>\n",
              "      <td>261</td>\n",
              "      <td>0</td>\n",
              "      <td>0</td>\n",
              "      <td>141</td>\n",
              "      <td>0</td>\n",
              "      <td>0.3</td>\n",
              "      <td>1</td>\n",
              "      <td>0</td>\n",
              "      <td>7</td>\n",
              "      <td>1</td>\n",
              "    </tr>\n",
              "    <tr>\n",
              "      <th>3</th>\n",
              "      <td>64</td>\n",
              "      <td>1</td>\n",
              "      <td>4</td>\n",
              "      <td>128</td>\n",
              "      <td>263</td>\n",
              "      <td>0</td>\n",
              "      <td>0</td>\n",
              "      <td>105</td>\n",
              "      <td>1</td>\n",
              "      <td>0.2</td>\n",
              "      <td>2</td>\n",
              "      <td>1</td>\n",
              "      <td>7</td>\n",
              "      <td>0</td>\n",
              "    </tr>\n",
              "    <tr>\n",
              "      <th>4</th>\n",
              "      <td>74</td>\n",
              "      <td>0</td>\n",
              "      <td>2</td>\n",
              "      <td>120</td>\n",
              "      <td>269</td>\n",
              "      <td>0</td>\n",
              "      <td>2</td>\n",
              "      <td>121</td>\n",
              "      <td>1</td>\n",
              "      <td>0.2</td>\n",
              "      <td>1</td>\n",
              "      <td>1</td>\n",
              "      <td>3</td>\n",
              "      <td>0</td>\n",
              "    </tr>\n",
              "  </tbody>\n",
              "</table>\n",
              "</div>"
            ],
            "text/plain": [
              "   age  sex  chest  resting_blood_pressure  serum_cholestoral  \\\n",
              "0   70    1      4                     130                322   \n",
              "1   67    0      3                     115                564   \n",
              "2   57    1      2                     124                261   \n",
              "3   64    1      4                     128                263   \n",
              "4   74    0      2                     120                269   \n",
              "\n",
              "   fasting_blood_sugar  resting_electrocardiographic_results  \\\n",
              "0                    0                                     2   \n",
              "1                    0                                     2   \n",
              "2                    0                                     0   \n",
              "3                    0                                     0   \n",
              "4                    0                                     2   \n",
              "\n",
              "   maximum_heart_rate_achieved  exercise_induced_angina  oldpeak  slope  \\\n",
              "0                          109                        0      2.4      2   \n",
              "1                          160                        0      1.6      2   \n",
              "2                          141                        0      0.3      1   \n",
              "3                          105                        1      0.2      2   \n",
              "4                          121                        1      0.2      1   \n",
              "\n",
              "   number_of_major_vessels  thal  result  \n",
              "0                        3     3       1  \n",
              "1                        0     7       0  \n",
              "2                        0     7       1  \n",
              "3                        1     7       0  \n",
              "4                        1     3       0  "
            ]
          },
          "execution_count": 29,
          "metadata": {},
          "output_type": "execute_result"
        }
      ],
      "source": [
        "data1 = pd.read_csv(\"heart_disease.csv\")\n",
        "data1.head()"
      ]
    },
    {
      "cell_type": "code",
      "execution_count": null,
      "id": "d46ce7e3",
      "metadata": {
        "id": "d46ce7e3"
      },
      "outputs": [],
      "source": [
        "x = data1.loc[:,'age':'oldpeak']\n",
        "y = data1['result']"
      ]
    },
    {
      "cell_type": "code",
      "execution_count": null,
      "id": "bf2eb73c",
      "metadata": {
        "id": "bf2eb73c",
        "outputId": "9dad2eb3-41bb-4d47-fc99-fe54ee9c9e93"
      },
      "outputs": [
        {
          "name": "stdout",
          "output_type": "stream",
          "text": [
            "   age  sex  chest  resting_blood_pressure  serum_cholestoral  \\\n",
            "0   70    1      4                     130                322   \n",
            "1   67    0      3                     115                564   \n",
            "2   57    1      2                     124                261   \n",
            "3   64    1      4                     128                263   \n",
            "4   74    0      2                     120                269   \n",
            "\n",
            "   fasting_blood_sugar  resting_electrocardiographic_results  \\\n",
            "0                    0                                     2   \n",
            "1                    0                                     2   \n",
            "2                    0                                     0   \n",
            "3                    0                                     0   \n",
            "4                    0                                     2   \n",
            "\n",
            "   maximum_heart_rate_achieved  exercise_induced_angina  oldpeak  \n",
            "0                          109                        0      2.4  \n",
            "1                          160                        0      1.6  \n",
            "2                          141                        0      0.3  \n",
            "3                          105                        1      0.2  \n",
            "4                          121                        1      0.2  \n"
          ]
        }
      ],
      "source": [
        "print(x[0:5])"
      ]
    },
    {
      "cell_type": "code",
      "execution_count": null,
      "id": "5dbbd133",
      "metadata": {
        "id": "5dbbd133",
        "outputId": "0bcd4e97-56e9-4e6b-dd94-c6fc110a3fe9"
      },
      "outputs": [
        {
          "name": "stdout",
          "output_type": "stream",
          "text": [
            "0    1\n",
            "1    0\n",
            "2    1\n",
            "3    0\n",
            "4    0\n",
            "Name: result, dtype: int64\n"
          ]
        }
      ],
      "source": [
        "print(y[0:5])"
      ]
    },
    {
      "cell_type": "code",
      "execution_count": null,
      "id": "14e83dc3",
      "metadata": {
        "id": "14e83dc3",
        "outputId": "9dbf4be5-14b8-4713-ee31-f322b4e4ae54"
      },
      "outputs": [
        {
          "name": "stdout",
          "output_type": "stream",
          "text": [
            "Training Data (216, 10)\n"
          ]
        }
      ],
      "source": [
        "from sklearn.model_selection import train_test_split\n",
        "x_train, x_test, y_train, y_test = train_test_split(x, y, test_size = 0.20)\n",
        "print('Training Data', x_train.shape)"
      ]
    },
    {
      "cell_type": "code",
      "execution_count": null,
      "id": "9b9004c3",
      "metadata": {
        "id": "9b9004c3"
      },
      "outputs": [],
      "source": [
        "#scalling feature\n",
        "from sklearn.preprocessing import StandardScaler\n",
        "sc = StandardScaler()\n",
        "x_train = sc.fit_transform(x_train)\n",
        "x_test = sc.transform (x_test)"
      ]
    },
    {
      "cell_type": "code",
      "execution_count": null,
      "id": "d29a5e37",
      "metadata": {
        "id": "d29a5e37",
        "outputId": "8fbea87c-f9e8-4009-b7a4-a240f08d0759"
      },
      "outputs": [
        {
          "name": "stdout",
          "output_type": "stream",
          "text": [
            "[[-0.91920495  0.68511879  0.89802651  0.57484919  1.25479805 -0.41702883\n",
            "  -0.93282933 -1.27031552  1.50755672  0.66737459]\n",
            " [-0.48663791 -1.4596009   0.89802651 -1.18389621  0.1500302  -0.41702883\n",
            "   1.08208202  0.4001712  -0.66332496 -0.97176148]\n",
            " [-1.13548847  0.68511879 -1.25723711 -0.01139928 -0.52833602 -0.41702883\n",
            "   1.08208202  1.64232799 -0.66332496 -0.97176148]\n",
            " [ 0.37849616  0.68511879  0.89802651 -0.30452351  1.04159724 -0.41702883\n",
            "   1.08208202  0.91416711 -0.66332496 -0.97176148]\n",
            " [ 0.59477967  0.68511879  0.89802651 -0.30452351  0.22755777 -0.41702883\n",
            "   1.08208202 -0.37082267  1.50755672  1.57800574]]\n"
          ]
        }
      ],
      "source": [
        "print(x_train[0:5])"
      ]
    },
    {
      "cell_type": "code",
      "execution_count": null,
      "id": "7ef8850b",
      "metadata": {
        "id": "7ef8850b",
        "outputId": "f824ff22-abf8-481e-f6cf-7eb6d9513774"
      },
      "outputs": [
        {
          "name": "stdout",
          "output_type": "stream",
          "text": [
            "[[ 0.81106319 -1.4596009   0.89802651  0.57484919  2.86349509 -0.41702883\n",
            "   1.08208202  0.31450521 -0.66332496  0.1209959 ]\n",
            " [ 0.2703544   0.68511879 -1.25723711 -0.36314836  0.28570345 -0.41702883\n",
            "  -0.93282933 -0.37082267 -0.66332496 -0.69857214]\n",
            " [ 0.16221264  0.68511879  0.89802651 -0.01139928  0.71210507  2.39791576\n",
            "   1.08208202 -1.99847639  1.50755672  0.48524836]\n",
            " [-0.16221264  0.68511879  0.89802651  0.57484919 -0.83844629  2.39791576\n",
            "   1.08208202  0.22883923  1.50755672  1.85119508]\n",
            " [-1.35177198 -1.4596009   0.89802651 -1.65289499  0.36323101 -0.41702883\n",
            "   1.08208202 -1.18464953 -0.66332496 -0.42538279]]\n"
          ]
        }
      ],
      "source": [
        "print(x_test[0:5])"
      ]
    },
    {
      "cell_type": "code",
      "execution_count": null,
      "id": "ae965745",
      "metadata": {
        "id": "ae965745",
        "outputId": "9cd60c53-3b14-41e0-c4c8-184cd89716e6"
      },
      "outputs": [
        {
          "data": {
            "text/plain": [
              "SVC(kernel='linear', random_state=0)"
            ]
          },
          "execution_count": 55,
          "metadata": {},
          "output_type": "execute_result"
        }
      ],
      "source": [
        "#Training the Kernel SVM model on the Training set\n",
        "classifier = SVC(kernel = 'linear', random_state = 0)\n",
        "classifier.fit(x_train, y_train)"
      ]
    },
    {
      "cell_type": "code",
      "execution_count": null,
      "id": "3579cc7f",
      "metadata": {
        "id": "3579cc7f"
      },
      "outputs": [],
      "source": [
        "#Predicting the Test set results\n",
        "y_predict = classifier.predict(x_test)"
      ]
    },
    {
      "cell_type": "code",
      "execution_count": null,
      "id": "2129088f",
      "metadata": {
        "id": "2129088f",
        "outputId": "c78b73b3-21d5-41e8-bc18-a3114cc6d8e3"
      },
      "outputs": [
        {
          "data": {
            "text/plain": [
              "array([0, 0, 1, 1, 0], dtype=int64)"
            ]
          },
          "execution_count": 59,
          "metadata": {},
          "output_type": "execute_result"
        }
      ],
      "source": [
        "y_predict[0:5]"
      ]
    },
    {
      "cell_type": "code",
      "execution_count": null,
      "id": "1ddfbbd0",
      "metadata": {
        "id": "1ddfbbd0",
        "outputId": "76d0188d-4fe7-4b78-ad39-63d54f5e6854"
      },
      "outputs": [
        {
          "name": "stdout",
          "output_type": "stream",
          "text": [
            "Accuracy:\n",
            "0.7592592592592593\n"
          ]
        }
      ],
      "source": [
        "#making the confusion matrix\n",
        "\n",
        "clf.fit(x_train,y_train)\n",
        "y_pred = clf.predict(x_test)\n",
        "print('Accuracy:')\n",
        "print((y_test==y_pred).sum()/len(y_pred))"
      ]
    },
    {
      "cell_type": "code",
      "execution_count": null,
      "id": "c0fb9ca7",
      "metadata": {
        "id": "c0fb9ca7",
        "outputId": "6c57838e-9f2d-4903-d43f-b47f5a4588d4"
      },
      "outputs": [
        {
          "data": {
            "image/png": "[encoded data removed]",
            "text/plain": [
              "<Figure size 432x288 with 1 Axes>"
            ]
          },
          "metadata": {
            "needs_background": "light"
          },
          "output_type": "display_data"
        }
      ],
      "source": [
        "#Visualisasi\n",
        "\n",
        "plt.scatter(x_test[:,0],x_test[:,1],c = y_pred)\n",
        "plt.scatter(x_train[:,0],x_train[:,1],c = y_train)\n",
        "w = clf.coef_[0]\n",
        "a = -w[0] / w[1]\n",
        "xx = np.linspace(-2, 2)\n",
        "yy = a * xx - (clf.intercept_[0]) / w[1]\n",
        "plt.title('Kernel SVM Linear)')\n",
        "plt.plot(xx, yy)\n",
        "plt.show()"
      ]
    },
    {
      "cell_type": "code",
      "execution_count": null,
      "id": "69d16dfa",
      "metadata": {
        "id": "69d16dfa"
      },
      "outputs": [],
      "source": [
        ""
      ]
    }
  ],
  "metadata": {
    "kernelspec": {
      "display_name": "Python 3",
      "language": "python",
      "name": "python3"
    },
    "language_info": {
      "codemirror_mode": {
        "name": "ipython",
        "version": 3
      },
      "file_extension": ".py",
      "mimetype": "text/x-python",
      "name": "python",
      "nbconvert_exporter": "python",
      "pygments_lexer": "ipython3",
      "version": "3.8.8"
    },
    "colab": {
      "name": "SVM_Linear.ipynb",
      "provenance": [],
      "include_colab_link": true
    }
  },
  "nbformat": 4,
  "nbformat_minor": 5
}